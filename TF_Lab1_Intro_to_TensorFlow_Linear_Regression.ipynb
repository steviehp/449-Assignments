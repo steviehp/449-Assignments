{
  "nbformat": 4,
  "nbformat_minor": 0,
  "metadata": {
    "colab": {
      "provenance": []
    },
    "kernelspec": {
      "name": "python3",
      "display_name": "Python 3"
    },
    "language_info": {
      "name": "python"
    }
  },
  "cells": [
    {
      "cell_type": "markdown",
      "metadata": {
        "id": "s1M_jMcEwDY1"
      },
      "source": [
        "<h1>ISAT 449 - Emerging Topics in Applied Data Science</h1>\n",
        "<h2>TensorFlow 2.x : Lab 1: Linear Regression Model</h2>\n",
        "<h3>Objectives</h3>\n",
        "<ul>\n",
        "  <li>Gain more familararity with TensorFlow 2.x</li>\n",
        "  <li>Build a simple machine learning model with a self-defined loss function</li>\n",
        "  <li>Selecting a suitable optimization function (algorithm)</li>\n",
        "  <li>Explicitly train the model using a training for-loop</li>\n",
        "  <li>Plot the model's loss per epoch</li>\n",
        "  <li>Improve the model's performance</li>\n",
        "  <li>Plot the model's loss per epoch after improvements</li>\n",
        "</ul>\n",
        "<h3>Two ways to get started with TensorFlow</h3>\n",
        "<p>We will use Colab for this and the remainig labs. This is the *quickest way to get started with no overhread to you. You just need a browser and a Google account!<br>\n",
        "(1) Go to Google Colab (https://colab.research.google.com/)<br>\n",
        "(2) Create an account and log in<br>\n",
        "(3) Theres a tab menu with.. 1. 1. Examples 1. 1. Recent 1. 1. Google Drive 1.1. etc.<br>\n",
        "(4) Click the link to create a new Notebook and your're ready!<br>\n",
        "</p>\n",
        "<h3>OR\n",
        "<br>\n",
        "Install TensorFlow 2.x in a Jupter Notebook (Anaconda Data Science Framework)\n",
        "</h3>\n",
        "<p>This method requires that you manually install TensorFlow 2.x. We reccomend that if you use this method, that you download and install the Ananconda Distribution\n",
        "(https://www.anaconda.com/distribution/) for your particular OS. While there is some overhead, the installation should be smooth and problem free, especially if yor use the anaconda\n",
        "navigator (https://docs.anaconda.com/anaconda/navigator/). Once installed, you may want to create a separate environemnt for tensorflow and upgrade it to the version we are using\n",
        "for this class. This will have to be a manuual upgrade using pip. For your convenience, the pip command are given below.</p>\n",
        "<br>\n",
        "<h3>Quick Start</h3>\n",
        "<p>We will assume your are in Google Colab for these labs although everything we do can be done from within any properly configured TensorFlow environment</p>\n",
        "<h4>Let's import tensorflow and some helper modules</h4>"
      ]
    },
    {
      "cell_type": "code",
      "metadata": {
        "colab": {
          "base_uri": "https://localhost:8080/"
        },
        "id": "qjjFxeRDw9R6",
        "outputId": "04e2faef-1c63-4e14-c2c3-b7b6df0322f0"
      },
      "source": [
        "#now import numpy and new tensorflow version\n",
        "import numpy as np\n",
        "import tensorflow as tf\n",
        "print('TensorFlow Version:', tf.__version__)"
      ],
      "execution_count": null,
      "outputs": [
        {
          "output_type": "stream",
          "name": "stdout",
          "text": [
            "TensorFlow Version: 2.6.0\n"
          ]
        }
      ]
    },
    {
      "cell_type": "markdown",
      "metadata": {
        "id": "_scD9YWixh17"
      },
      "source": [
        "<h4>Creating variables and constants</h4>\n",
        "<p>In this lesson, we will study a simple linear realtionship with one variable, the point-slope straight line formula:</p>\n",
        "$$y(x)=mx+b$$\n",
        "<p>We will create a tensorflow variable and constant initalize them values of 4.0 and 2.0. I named them slope and intercept but this is optional. Note what happens when we print them</p>"
      ]
    },
    {
      "cell_type": "code",
      "metadata": {
        "colab": {
          "base_uri": "https://localhost:8080/"
        },
        "id": "_R6ObUd3xgO6",
        "outputId": "eae1f852-216b-435f-91ec-d70c49eebdd2"
      },
      "source": [
        "m = tf.Variable(4.0, name='slope')\n",
        "b = tf.Variable(2.0, name='intercept')\n",
        "print(m)\n",
        "print(b)\n"
      ],
      "execution_count": null,
      "outputs": [
        {
          "output_type": "stream",
          "name": "stdout",
          "text": [
            "<tf.Variable 'slope:0' shape=() dtype=float32, numpy=4.0>\n",
            "<tf.Variable 'intercept:0' shape=() dtype=float32, numpy=2.0>\n"
          ]
        }
      ]
    },
    {
      "cell_type": "markdown",
      "metadata": {
        "id": "e_vMFNM4yLN9"
      },
      "source": [
        "<h5>Retriving values of variables</h5>\n",
        "<p>To actually get the numerical values, you have to numpy()as below:</p>"
      ]
    },
    {
      "cell_type": "code",
      "metadata": {
        "colab": {
          "base_uri": "https://localhost:8080/"
        },
        "id": "tSfFWoBgyKRj",
        "outputId": "6c1fc577-3eea-452a-9dc6-be0c23427c56"
      },
      "source": [
        "print(m.numpy())\n",
        "print(b.numpy())"
      ],
      "execution_count": null,
      "outputs": [
        {
          "output_type": "stream",
          "name": "stdout",
          "text": [
            "4.0\n",
            "2.0\n"
          ]
        }
      ]
    },
    {
      "cell_type": "markdown",
      "metadata": {
        "id": "9i1fC40qyW1w"
      },
      "source": [
        "<h4>Optimization</h4>\n",
        "<p>In this section we are going to create a function (linear) that we want to use as our model to optimize to fit some data. This is a simple linear regression model y(x) = f(x) = mx and we\n",
        "want to find the best slope (m) that fits our data which in this case is going to be a single data point!</p>\n",
        "<h3>Definitions</h3>\n",
        "<p>loss and optimizer functions</p>\n",
        "<p>Before training, the model has to be compiled. When compiled for training, the model is given</p>\n",
        "<ul>\n",
        "  <li>Loss Function - A way of measuring how far off predictions are from the desired outcome.</li>\n",
        "  <li>Optimizer Function - A way of adjusting internal values in order to reduce the loss</li>\n",
        "</ul>\n",
        "<br>\n",
        "<h4>Define the model with a function</h4>"
      ]
    },
    {
      "cell_type": "code",
      "metadata": {
        "id": "3CqVCvgbycfm"
      },
      "source": [
        "#simply f(x) = mx + b\n",
        "def f(x):\n",
        "  return (m*x +b)"
      ],
      "execution_count": null,
      "outputs": []
    },
    {
      "cell_type": "markdown",
      "metadata": {
        "id": "hjGzi484zIeY"
      },
      "source": [
        "<p>Now let's test our function with some arbitrary data: x=3.0</p>\n",
        "<br>\n",
        "<p><b>A simple way to have tensorflow calculate it internally is just to use the print function</b></p>"
      ]
    },
    {
      "cell_type": "code",
      "metadata": {
        "colab": {
          "base_uri": "https://localhost:8080/"
        },
        "id": "WWg3XGX7zEFA",
        "outputId": "fa9c9579-5fe7-4151-9358-b56bf75838c2"
      },
      "source": [
        "#print function (pass it numeric 3.0) and note that is it a tensor.\n",
        "# it would return 14.0 since we made m=4.0 and b=2.0\n",
        "print(f(3))"
      ],
      "execution_count": null,
      "outputs": [
        {
          "output_type": "stream",
          "name": "stdout",
          "text": [
            "tf.Tensor(14.0, shape=(), dtype=float32)\n"
          ]
        }
      ]
    },
    {
      "cell_type": "markdown",
      "metadata": {
        "id": "pn3HP_HlzhhI"
      },
      "source": [
        "<h4>Create a simple loss function that we will later optimize</h4>\n",
        "<ol>\n",
        "  <li>Note: In TensorFlow 2.x, the loss must be a function so we will create an anonymous lambda function here</li>\n",
        "  <li>Our loss funtion will be: abs((f(4) - 8)). This is to be interpreted as saying:</li>\n",
        "</ol>\n",
        "<ul>\n",
        "  <li>make y(4) as close to the number 8 by adjusting the value for the variable m (which we initially set equal to 4) i.e., 4 times what? + 2 = 8? ans: m=1.5. so we expect that the\n",
        "algorithm will adjust the slope unitl it reaches the value of 1.5.\n",
        "  </li>\n",
        "  <li>NOTE: The TensorFlow constant(the intercept does not change!)</li>\n",
        "</ul>"
      ]
    },
    {
      "cell_type": "code",
      "metadata": {
        "colab": {
          "base_uri": "https://localhost:8080/"
        },
        "id": "zHTCZybyzgtO",
        "outputId": "ab5aa9e0-f454-4acb-d77e-5ff3f9d695d5"
      },
      "source": [
        "#loss function\n",
        "loss = lambda:abs(f(4) - 8)\n",
        "#loss=lambda:tf.square(f(4)-8)\n",
        "loss()"
      ],
      "execution_count": null,
      "outputs": [
        {
          "output_type": "execute_result",
          "data": {
            "text/plain": [
              "<tf.Tensor: shape=(), dtype=float32, numpy=10.0>"
            ]
          },
          "metadata": {},
          "execution_count": 6
        }
      ]
    },
    {
      "cell_type": "markdown",
      "metadata": {
        "id": "LF0re2450Aul"
      },
      "source": [
        "<h4>Pick an optimizer</h4>\n",
        "<p>Google's TensorFlow Library has a number of optimizers. For this exercise we will use a from of Gradient Descent (https://developers.google.com/machinelearning/glossary/#gradient_descent) called Stochastic Gradient Descent (https://developers.google.com/machine-learning/glossary/#s).\n",
        "</p>"
      ]
    },
    {
      "cell_type": "code",
      "metadata": {
        "id": "tiEcO1t_z_iU"
      },
      "source": [
        "optimizer = tf.optimizers.SGD(learning_rate = .001)\n"
      ],
      "execution_count": null,
      "outputs": []
    },
    {
      "cell_type": "markdown",
      "metadata": {
        "id": "4ligNKzZ0Os-"
      },
      "source": [
        "<p><b>Now let's run our model for a few iterations (epochs) using the selcted optimizer and our created loss function</b></p>"
      ]
    },
    {
      "cell_type": "code",
      "metadata": {
        "colab": {
          "base_uri": "https://localhost:8080/"
        },
        "id": "yrGj2XGZ0N7m",
        "outputId": "508aa497-036c-4652-d88c-f682e1be3842"
      },
      "source": [
        "loss_values=[]\n",
        "epochs=[]\n",
        "for epoch in range(1000):\n",
        "  epochs.append(epoch)\n",
        "  loss_values.append(loss().numpy())\n",
        "  optimizer.minimize(loss, var_list=[m])\n",
        "  if epoch%50==0:\n",
        "    print('m = {0:.4f} and the constant b = {1} while f(4)= {2:.4f} and loss={3:0.2f}'.format(m.numpy(), b.numpy(), f(4), loss().numpy()))"
      ],
      "execution_count": null,
      "outputs": [
        {
          "output_type": "stream",
          "name": "stdout",
          "text": [
            "m = 3.9960 and the constant b = 2.0 while f(4)= 17.9840 and loss=9.98\n",
            "m = 3.7960 and the constant b = 2.0 while f(4)= 17.1840 and loss=9.18\n",
            "m = 3.5960 and the constant b = 2.0 while f(4)= 16.3840 and loss=8.38\n",
            "m = 3.3960 and the constant b = 2.0 while f(4)= 15.5840 and loss=7.58\n",
            "m = 3.1960 and the constant b = 2.0 while f(4)= 14.7840 and loss=6.78\n",
            "m = 2.9960 and the constant b = 2.0 while f(4)= 13.9841 and loss=5.98\n",
            "m = 2.7960 and the constant b = 2.0 while f(4)= 13.1841 and loss=5.18\n",
            "m = 2.5960 and the constant b = 2.0 while f(4)= 12.3841 and loss=4.38\n",
            "m = 2.3960 and the constant b = 2.0 while f(4)= 11.5841 and loss=3.58\n",
            "m = 2.1960 and the constant b = 2.0 while f(4)= 10.7841 and loss=2.78\n",
            "m = 1.9960 and the constant b = 2.0 while f(4)= 9.9841 and loss=1.98\n",
            "m = 1.7960 and the constant b = 2.0 while f(4)= 9.1841 and loss=1.18\n",
            "m = 1.5960 and the constant b = 2.0 while f(4)= 8.3841 and loss=0.38\n",
            "m = 1.5000 and the constant b = 2.0 while f(4)= 8.0001 and loss=0.00\n",
            "m = 1.5000 and the constant b = 2.0 while f(4)= 8.0001 and loss=0.00\n",
            "m = 1.5000 and the constant b = 2.0 while f(4)= 8.0001 and loss=0.00\n",
            "m = 1.5000 and the constant b = 2.0 while f(4)= 8.0001 and loss=0.00\n",
            "m = 1.5000 and the constant b = 2.0 while f(4)= 8.0001 and loss=0.00\n",
            "m = 1.5000 and the constant b = 2.0 while f(4)= 8.0001 and loss=0.00\n",
            "m = 1.5000 and the constant b = 2.0 while f(4)= 8.0001 and loss=0.00\n"
          ]
        }
      ]
    },
    {
      "cell_type": "markdown",
      "metadata": {
        "id": "16G1eQDP0zLe"
      },
      "source": [
        "<h4>Convergence of model</h4>\n",
        "<p>You will note that the model has coverged to the expected value of the slope (m) after 13 epochs with the above loss function and optimizer (note that I only display\n",
        "output every 50 epochs). Congratulations! You have just built and trained your first machine learning model with TensorFlow 2.x!\n",
        "</p>\n",
        "<br>\n",
        "<h4>Exercise 1</h4>\n",
        "<p>Plot the loss per epoch from the above model</p>"
      ]
    },
    {
      "cell_type": "code",
      "metadata": {
        "colab": {
          "base_uri": "https://localhost:8080/",
          "height": 295
        },
        "id": "OgmiPUmW0x1M",
        "outputId": "8ebc9f12-09c7-4f65-a45b-15dde5671d27"
      },
      "source": [
        "import matplotlib.pyplot as plt\n",
        "fig = plt.figure(figsize=(6,4))\n",
        "plt.plot(loss_values, color=\"blue\", label = \"training loss\")\n",
        "plt.xlabel(\"epoch\")\n",
        "plt.ylabel(\"loss\")\n",
        "#Legend\n",
        "plt.legend(loc='upper right')\n",
        "#Title\n",
        "plt.title(\"Training Loss Per Epoch\")\n",
        "#Show plot\n",
        "plt.show()"
      ],
      "execution_count": null,
      "outputs": [
        {
          "output_type": "display_data",
          "data": {
            "image/png": "[encoded data removed]",
            "text/plain": [
              "<Figure size 432x288 with 1 Axes>"
            ]
          },
          "metadata": {
            "needs_background": "light"
          }
        }
      ]
    },
    {
      "cell_type": "markdown",
      "metadata": {
        "id": "FY3auh2G1DPF"
      },
      "source": [
        "<h4>Exercise 2</h4>\n",
        "<ul><li>Create a better loss function than the current one used in the model using built-in tensorflow math functions (use the same value for for the input, i.e. x=4). Display the loss along\n",
        "with the the other values already being shown during training.\n",
        "</li></ul>"
      ]
    },
    {
      "cell_type": "code",
      "metadata": {
        "colab": {
          "base_uri": "https://localhost:8080/"
        },
        "id": "mkrcH1xM1J3v",
        "outputId": "1bd17e76-d77d-4770-9a01-6eb3fc01341d"
      },
      "source": [
        "cooler_loss=lambda:(tf.square(f(4)-8))\n",
        "\n",
        "#Print Loss per thing\n",
        "cooler_loss_values=[]\n",
        "epochs=[]\n",
        "for epoch in range(1000):\n",
        "  epochs.append(epoch)\n",
        "  cooler_loss_values.append(cooler_loss().numpy())\n",
        "  optimizer.minimize(cooler_loss, var_list=[m])\n",
        "  if epoch%50==0:\n",
        "    print('m = {0:.4f} and the constant b = {1} while f(4)= {2:.4f} and loss={3:0.2f}'.format(m.numpy(), b.numpy(), f(4), loss().numpy()))\n",
        "\n"
      ],
      "execution_count": null,
      "outputs": [
        {
          "output_type": "stream",
          "name": "stdout",
          "text": [
            "m = 1.4962 and the constant b = 2.0 while f(4)= 7.9846 and loss=0.02\n",
            "m = 1.4992 and the constant b = 2.0 while f(4)= 7.9970 and loss=0.00\n",
            "m = 1.4999 and the constant b = 2.0 while f(4)= 7.9994 and loss=0.00\n",
            "m = 1.5000 and the constant b = 2.0 while f(4)= 7.9999 and loss=0.00\n",
            "m = 1.5000 and the constant b = 2.0 while f(4)= 8.0000 and loss=0.00\n",
            "m = 1.5000 and the constant b = 2.0 while f(4)= 8.0000 and loss=0.00\n",
            "m = 1.5000 and the constant b = 2.0 while f(4)= 8.0000 and loss=0.00\n",
            "m = 1.5000 and the constant b = 2.0 while f(4)= 8.0000 and loss=0.00\n",
            "m = 1.5000 and the constant b = 2.0 while f(4)= 8.0000 and loss=0.00\n",
            "m = 1.5000 and the constant b = 2.0 while f(4)= 8.0000 and loss=0.00\n",
            "m = 1.5000 and the constant b = 2.0 while f(4)= 8.0000 and loss=0.00\n",
            "m = 1.5000 and the constant b = 2.0 while f(4)= 8.0000 and loss=0.00\n",
            "m = 1.5000 and the constant b = 2.0 while f(4)= 8.0000 and loss=0.00\n",
            "m = 1.5000 and the constant b = 2.0 while f(4)= 8.0000 and loss=0.00\n",
            "m = 1.5000 and the constant b = 2.0 while f(4)= 8.0000 and loss=0.00\n",
            "m = 1.5000 and the constant b = 2.0 while f(4)= 8.0000 and loss=0.00\n",
            "m = 1.5000 and the constant b = 2.0 while f(4)= 8.0000 and loss=0.00\n",
            "m = 1.5000 and the constant b = 2.0 while f(4)= 8.0000 and loss=0.00\n",
            "m = 1.5000 and the constant b = 2.0 while f(4)= 8.0000 and loss=0.00\n",
            "m = 1.5000 and the constant b = 2.0 while f(4)= 8.0000 and loss=0.00\n"
          ]
        }
      ]
    },
    {
      "cell_type": "markdown",
      "metadata": {
        "id": "7_N1R2CA1Klk"
      },
      "source": [
        "<h4>Exercise 3</h4>\n",
        "<p>Plot the loss per epoch from your improved model</p>"
      ]
    },
    {
      "cell_type": "code",
      "metadata": {
        "colab": {
          "base_uri": "https://localhost:8080/",
          "height": 295
        },
        "id": "o89Cc3Nn1NWb",
        "outputId": "8dace4d8-5872-4955-96c2-75efaa8235af"
      },
      "source": [
        "#plot\n",
        "import matplotlib.pyplot as plt\n",
        "fig = plt.figure(figsize=(6,4))\n",
        "plt.plot(cooler_loss_values, color=\"blue\", label = \"training loss\")\n",
        "plt.xlabel(\"epoch\")\n",
        "plt.ylabel(\"loss\")\n",
        "#Legend\n",
        "plt.legend(loc='upper right')\n",
        "#Title\n",
        "plt.title(\"Training Loss Per Epoch\")\n",
        "#Show plot\n",
        "plt.show()"
      ],
      "execution_count": null,
      "outputs": [
        {
          "output_type": "display_data",
          "data": {
            "image/png": "[encoded data removed]",
            "text/plain": [
              "<Figure size 432x288 with 1 Axes>"
            ]
          },
          "metadata": {
            "needs_background": "light"
          }
        }
      ]
    }
  ]
}