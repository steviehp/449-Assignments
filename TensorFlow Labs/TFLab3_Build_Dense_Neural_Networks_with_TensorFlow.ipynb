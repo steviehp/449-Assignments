{
  "nbformat": 4,
  "nbformat_minor": 0,
  "metadata": {
    "colab": {
      "provenance": []
    },
    "kernelspec": {
      "name": "python3",
      "display_name": "Python 3"
    },
    "language_info": {
      "name": "python"
    }
  },
  "cells": [
    {
      "cell_type": "markdown",
      "metadata": {
        "id": "3uapg337F_Iv"
      },
      "source": [
        "<h1>ISAT 449 - Emerging Topics in Applied Data Science</h1>\n",
        "<h2>Using TensorFlow 2.x Keras Layers</h2>\n",
        "<h3>Building a Dense Neural Network with TensorFlow 2.x Keras</h3>\n",
        "<p>The previous lesson was just to get you used to the learning environment and the concepts involved in building machine learning models. Now, in this part, let's really see the power and ease of use in builing more sophisticated models with the TensorFlow 2.x implementation of Keras, tf.keras</p>\n",
        "<h2>Learning Objectives</h2>\n",
        "<ul>\n",
        "<li>\n",
        "Learn how to build a Dense neural networks with TensorFlow 2.x and Keras\n",
        "</li><li>\n",
        "Learn different appraches to stacking layers or artificial neurons to build \n",
        "multi-layer machine learning models\n",
        "</li><li>\n",
        "Construct models for Linear regression and classification\n",
        "</li><li>\n",
        "Train the model on NumPy generated data\n",
        "</li><li>\n",
        "Create simple datasets for exploring model architectures\n",
        "</li><li>\n",
        "Use the model's history to plot the loss and accuracy during training\n",
        "</li><li>\n",
        "Check the model's accuracy with your test data\n",
        "</li>\n",
        "</ul>\n",
        "<br>\n",
        "<h3>Let's import tensorflow and some helper modules</h3>\n"
      ]
    },
    {
      "cell_type": "code",
      "metadata": {
        "colab": {
          "base_uri": "https://localhost:8080/"
        },
        "id": "RI0uv1YGFMDr",
        "outputId": "63a6d918-929d-4fd5-afe7-01585c0ee536"
      },
      "source": [
        "#imports\n",
        "import numpy as np\n",
        "import tensorflow as tf\n",
        "import matplotlib.pyplot as plt\n",
        "import pandas as pd\n",
        "print('TensorFlow Version:', tf.__version__)"
      ],
      "execution_count": null,
      "outputs": [
        {
          "output_type": "stream",
          "name": "stdout",
          "text": [
            "TensorFlow Version: 2.6.0\n"
          ]
        }
      ]
    },
    {
      "cell_type": "markdown",
      "metadata": {
        "id": "fMyl12DHG5Vw"
      },
      "source": [
        "<h3>Building Dense Models</h3>\n",
        "<h4>Sequential Model</h4>\n",
        "<p>In Keras, you assemble layers to build models. A model is (usually) a stack or graph of layers. The most common type of model is a stack of layers: the tf.keras.Sequential\n",
        "model. Let's use the tf.keras.Sequential model build a simple, fully-connected feed-forward neural network (i.e. multi-layer perceptron) which is also called a Dense neural\n",
        "network. tf.keras has several ways of building models.\n",
        "Below we illustrate two of the methods for building neural networks with tf.keras</p>\n",
        "<h4>Method 1 - Explicitly Creating and Stacking the layers in a Python List</h4>\n",
        "<p></p>\n",
        "<h6>Practice Problem 1: Build a Dense Neural Network for Regression</h6>\n",
        "<p>Let's build a model of a fully-connected feed-forward neural network (i.e. multi-layer perceptron) also called a Dense neural network. The tf.keras Sequential class is used to\n",
        "implement the feed-forward neural network. We will build a regression model using a Dense network and numpy generated data</p>\n",
        "<br>\n",
        "<h4>Generate some data using NumPy</h4>\n",
        "<p>For illustrative purposes, let's also create in-memory, small, NumPy (https://www.w3schools.com/python/numpy_intro.asp) generated dataset arrays to train and evaluate our model.</p>\n"
      ]
    },
    {
      "cell_type": "code",
      "metadata": {
        "id": "A0UPpfRBG2p1"
      },
      "source": [
        "#Generate a 2-D array with 1000 rows, each row containing 5 random floats from 0 to 1\n",
        "x_train=np.random.normal(size=(1000,5))\n",
        "#Generate a 1-D array with 1000 random integers from 0-5\n",
        "y_train=np.random.randint(2,size=(1000))\n",
        "#Generate a 2-D array with 100 rows, each row containing 5 random floats from 0 to 1\n",
        "x_test=np.random.normal(size=(100,5))\n",
        "#Generate a 1-D array with 100 random integers from 0 to 5\n",
        "y_test=np.random.randint(2, size=(100))\n"
      ],
      "execution_count": null,
      "outputs": []
    },
    {
      "cell_type": "markdown",
      "metadata": {
        "id": "sm50uLBHIBy-"
      },
      "source": [
        "<p>tf.keras needs the shape of the input feature array</p>"
      ]
    },
    {
      "cell_type": "code",
      "metadata": {
        "colab": {
          "base_uri": "https://localhost:8080/"
        },
        "id": "uG81OOZ3H15j",
        "outputId": "943e5e3f-0ed5-4b57-9739-b6d6d8895078"
      },
      "source": [
        "#quick way to get input shape for tensorflow-keras\n",
        "x_train.shape[1:]\n",
        "input_shape=x_train.shape[1:]\n",
        "print('The input shape of the feature matrix is:', input_shape)"
      ],
      "execution_count": null,
      "outputs": [
        {
          "output_type": "stream",
          "name": "stdout",
          "text": [
            "The input shape of the feature matrix is: (5,)\n"
          ]
        }
      ]
    },
    {
      "cell_type": "markdown",
      "metadata": {
        "id": "pd74baOcIVbN"
      },
      "source": [
        "<h6>Create the layers</h6>"
      ]
    },
    {
      "cell_type": "code",
      "metadata": {
        "id": "I7Z-PFH2IKOg"
      },
      "source": [
        "#The input layer to the model informs it of the shape of you features dataset\n",
        "l0 = tf.keras.layers.Dense(units = 32, input_shape=input_shape)\n",
        "\n",
        "#Adds a densely-connected layer with 16 units to the model:\n",
        "l1 = tf.keras.layers.Dense(units=16,activation='relu')\n",
        "\n",
        "#Adds another densely-connected layer with 1 unit to the model\n",
        "l2 = tf.keras.layers.Dense(units=1)"
      ],
      "execution_count": null,
      "outputs": []
    },
    {
      "cell_type": "markdown",
      "metadata": {
        "id": "EH9ib9FkIyvE"
      },
      "source": [
        "<h6>Assemble the layers</h6>"
      ]
    },
    {
      "cell_type": "code",
      "metadata": {
        "id": "NjpceqnvIxK6"
      },
      "source": [
        "#build the Sequential model as a list. Recall, the elements in a list are indexed according to a\n",
        "#definite sequence(ordered) and the indexing of a list begins with 0 being the first index\n",
        "model = tf.keras.Sequential([l0,l1,l2])"
      ],
      "execution_count": null,
      "outputs": []
    },
    {
      "cell_type": "markdown",
      "metadata": {
        "id": "MPUnC-HRJKT6"
      },
      "source": [
        "<h6>Compile and Train the Model</h6>"
      ]
    },
    {
      "cell_type": "code",
      "metadata": {
        "colab": {
          "base_uri": "https://localhost:8080/"
        },
        "id": "s8uTbSM_JEDy",
        "outputId": "263a4602-f8f3-4973-d812-3e691b3aadf5"
      },
      "source": [
        "#compile the model\n",
        "model.compile(optimizer='SGD',\n",
        "              loss='mse',\n",
        "              metrics=['accuracy'])\n",
        "\n",
        "#Train the model by calling the fit method\n",
        "history = model.fit(x_train, y_train, validation_split=0.1, epochs=5, verbose=1) #use 10% of training set for validation"
      ],
      "execution_count": null,
      "outputs": [
        {
          "output_type": "stream",
          "name": "stdout",
          "text": [
            "Epoch 1/5\n",
            "29/29 [==============================] - 1s 11ms/step - loss: 0.3555 - accuracy: 0.5089 - val_loss: 0.2796 - val_accuracy: 0.5600\n",
            "Epoch 2/5\n",
            "29/29 [==============================] - 0s 4ms/step - loss: 0.2778 - accuracy: 0.5300 - val_loss: 0.2674 - val_accuracy: 0.5100\n",
            "Epoch 3/5\n",
            "29/29 [==============================] - 0s 3ms/step - loss: 0.2673 - accuracy: 0.5244 - val_loss: 0.2668 - val_accuracy: 0.4800\n",
            "Epoch 4/5\n",
            "29/29 [==============================] - 0s 2ms/step - loss: 0.2634 - accuracy: 0.5089 - val_loss: 0.2659 - val_accuracy: 0.5300\n",
            "Epoch 5/5\n",
            "29/29 [==============================] - 0s 3ms/step - loss: 0.2605 - accuracy: 0.5156 - val_loss: 0.2630 - val_accuracy: 0.4700\n"
          ]
        }
      ]
    },
    {
      "cell_type": "markdown",
      "metadata": {
        "id": "PEOhO_6LJgLT"
      },
      "source": [
        "<h6>Display Metrics</h6>"
      ]
    },
    {
      "cell_type": "code",
      "metadata": {
        "colab": {
          "base_uri": "https://localhost:8080/",
          "height": 204
        },
        "id": "mtp-w_gEJeom",
        "outputId": "b8c3492b-73f3-48fe-efd4-cf35dba5b869"
      },
      "source": [
        "#printing model metrics\n",
        "hist = pd.DataFrame(history.history)\n",
        "hist['epoch'] = history.epoch\n",
        "hist.tail()"
      ],
      "execution_count": null,
      "outputs": [
        {
          "output_type": "execute_result",
          "data": {
            "text/html": [
              "<div>\n",
              "<style scoped>\n",
              "    .dataframe tbody tr th:only-of-type {\n",
              "        vertical-align: middle;\n",
              "    }\n",
              "\n",
              "    .dataframe tbody tr th {\n",
              "        vertical-align: top;\n",
              "    }\n",
              "\n",
              "    .dataframe thead th {\n",
              "        text-align: right;\n",
              "    }\n",
              "</style>\n",
              "<table border=\"1\" class=\"dataframe\">\n",
              "  <thead>\n",
              "    <tr style=\"text-align: right;\">\n",
              "      <th></th>\n",
              "      <th>loss</th>\n",
              "      <th>accuracy</th>\n",
              "      <th>val_loss</th>\n",
              "      <th>val_accuracy</th>\n",
              "      <th>epoch</th>\n",
              "    </tr>\n",
              "  </thead>\n",
              "  <tbody>\n",
              "    <tr>\n",
              "      <th>0</th>\n",
              "      <td>0.355465</td>\n",
              "      <td>0.508889</td>\n",
              "      <td>0.279578</td>\n",
              "      <td>0.56</td>\n",
              "      <td>0</td>\n",
              "    </tr>\n",
              "    <tr>\n",
              "      <th>1</th>\n",
              "      <td>0.277837</td>\n",
              "      <td>0.530000</td>\n",
              "      <td>0.267377</td>\n",
              "      <td>0.51</td>\n",
              "      <td>1</td>\n",
              "    </tr>\n",
              "    <tr>\n",
              "      <th>2</th>\n",
              "      <td>0.267271</td>\n",
              "      <td>0.524444</td>\n",
              "      <td>0.266767</td>\n",
              "      <td>0.48</td>\n",
              "      <td>2</td>\n",
              "    </tr>\n",
              "    <tr>\n",
              "      <th>3</th>\n",
              "      <td>0.263435</td>\n",
              "      <td>0.508889</td>\n",
              "      <td>0.265949</td>\n",
              "      <td>0.53</td>\n",
              "      <td>3</td>\n",
              "    </tr>\n",
              "    <tr>\n",
              "      <th>4</th>\n",
              "      <td>0.260475</td>\n",
              "      <td>0.515556</td>\n",
              "      <td>0.263043</td>\n",
              "      <td>0.47</td>\n",
              "      <td>4</td>\n",
              "    </tr>\n",
              "  </tbody>\n",
              "</table>\n",
              "</div>"
            ],
            "text/plain": [
              "       loss  accuracy  val_loss  val_accuracy  epoch\n",
              "0  0.355465  0.508889  0.279578          0.56      0\n",
              "1  0.277837  0.530000  0.267377          0.51      1\n",
              "2  0.267271  0.524444  0.266767          0.48      2\n",
              "3  0.263435  0.508889  0.265949          0.53      3\n",
              "4  0.260475  0.515556  0.263043          0.47      4"
            ]
          },
          "metadata": {},
          "execution_count": 7
        }
      ]
    },
    {
      "cell_type": "markdown",
      "metadata": {
        "id": "5DnVh4SnKFZa"
      },
      "source": [
        "<h6>Plot Loss</h6>"
      ]
    },
    {
      "cell_type": "code",
      "metadata": {
        "colab": {
          "base_uri": "https://localhost:8080/",
          "height": 283
        },
        "id": "f7t0hSyBJ-99",
        "outputId": "d61735b3-4b45-4401-f4ef-408df07c790c"
      },
      "source": [
        "plt.xlabel('epoch')\n",
        "plt.ylabel('loss')\n",
        "plt.plot(history.history['loss'])\n",
        "plt.show()"
      ],
      "execution_count": null,
      "outputs": [
        {
          "output_type": "display_data",
          "data": {
            "image/png": "[encoded data removed]",
            "text/plain": [
              "<Figure size 432x288 with 1 Axes>"
            ]
          },
          "metadata": {
            "needs_background": "light"
          }
        }
      ]
    },
    {
      "cell_type": "markdown",
      "metadata": {
        "id": "fDIhMGNMKyJ6"
      },
      "source": [
        "<h6>Evalute the model</h6>"
      ]
    },
    {
      "cell_type": "code",
      "metadata": {
        "colab": {
          "base_uri": "https://localhost:8080/"
        },
        "id": "Gqa18ENaKucg",
        "outputId": "781a3be7-0623-4d25-8daf-5350ba404f79"
      },
      "source": [
        "#Finally let's compare how the model performs on the test dataset\n",
        "test_loss, test_acc = model.evaluate(x_test,y_test,verbose=1)\n",
        "print('The test set loss is:{0:0.4f} and the test set accuracy is:{1:0.4f}%'.format(test_loss,100*test_acc))"
      ],
      "execution_count": null,
      "outputs": [
        {
          "output_type": "stream",
          "name": "stdout",
          "text": [
            "4/4 [==============================] - 0s 2ms/step - loss: 0.2495 - accuracy: 0.5700\n",
            "The test set loss is:0.2495 and the test set accuracy is:57.0000%\n"
          ]
        }
      ]
    },
    {
      "cell_type": "markdown",
      "metadata": {
        "id": "0iBNg80FLQO_"
      },
      "source": [
        "<h6>Make a prediction</h6>"
      ]
    },
    {
      "cell_type": "code",
      "metadata": {
        "colab": {
          "base_uri": "https://localhost:8080/"
        },
        "id": "vEEd5A1iLO8r",
        "outputId": "dc6c8f3e-830d-404c-840a-9504c6493a4b"
      },
      "source": [
        "model.predict([[1,2,3,4,5]])\n",
        "#print(x_test[4:5])\n"
      ],
      "execution_count": null,
      "outputs": [
        {
          "output_type": "execute_result",
          "data": {
            "text/plain": [
              "array([[1.5725787]], dtype=float32)"
            ]
          },
          "metadata": {},
          "execution_count": 10
        }
      ]
    },
    {
      "cell_type": "markdown",
      "metadata": {
        "id": "zZj4Gh0yMB78"
      },
      "source": [
        "<h3>Comments</h3>\n",
        "<p>tf.keras.model.compile take three important arguments</p>\n",
        "<ul>\n",
        "  <li>optimizer: this object specifices the training procedure. Pass it optimizer instances from the tf.train module, such as tf.train.AdamOptimizer, tf.train.RMSPropOptimizer, or tf.train.GradientDescentOptimizer</li>\n",
        "  <li>loss : The function to minimize during optimization. Common choices include mean square error ( mse ), categorical_crossentropy , and binary_crossentropy . Loss\n",
        "functions are specified by name or by passing a callable object from the tf.keras.losses module.\n",
        "</li><li>metrics : Used to monitor training. These are string names or callables from the tf.keras.metrics module.\n",
        "</li>\n",
        "</ul>\n",
        "<h3>Method 2 - Create the Sequential model by passing a list of layer instances to the constructor</h3>\n",
        "<p>\n",
        "Previously we demonstated model building using a Python list such that:\n",
        "<ul><li>\n",
        "Each layer of units (neurons) could be created outside the Sequential Class\n",
        "</li><li>Then they could all be passed to the Sequential model as a list in a linear stack of layers.</li>\n",
        "<li>When a model is created upon instantiation of the Sequential Class, this list is passed to its constructor as a list of layer instances</li>\n",
        "</ul>\n",
        "<p>There are several other methods to create and stack layers with tf.keras such as the .add() method. You should explore them! For the remainder of this course we the Sequential\n",
        "class with layer created inside the class. This is the one of the simplest and widely used approaches to quickly create and stack the layers of artificial neurons in dense networks. Let's\n",
        "use this approach to build a fully-connected network (i.e. multi-layer perceptron) feed- forward network (called a Dense Neural Network) to solve a simple binary classifcation problem.</p>\n",
        "<h4>\n",
        "Practice Problem 2</h4>\n",
        "<p>\n",
        "Build a machine learning model for binary classification that can classify colors into either red or blue based on the three RGB color channels, R (Red), G (Green), and B (Blue)\n",
        "(https://www.w3schools.com/html/html_colors_rgb.asp).\n",
        "</p>"
      ]
    },
    {
      "cell_type": "code",
      "metadata": {
        "colab": {
          "base_uri": "https://localhost:8080/"
        },
        "id": "gnSUrjr_L_I2",
        "outputId": "4628b7d3-05e6-40e3-8ee9-5f030f9e6280"
      },
      "source": [
        "#create training dataset\n",
        "x_train = np.array([[255,0,0],\n",
        "                    [248,80,68],\n",
        "                    [0,0,255],\n",
        "                    [67,15,210]], dtype='float')\n",
        "\n",
        "#create training labels\n",
        "#y_train=np.array([1,1,0,0], dtype='float)\n",
        "y_train=np.array([[1],[1],[0],[0]],dtype='float')\n",
        "\n",
        "#model has an input layer and a hidden layer and output layer, each with one neuron(units)\n",
        "model = tf.keras.models.Sequential([\n",
        "  tf.keras.layers.Dense(units=10,input_shape=(3,)),\n",
        "  tf.keras.layers.Dense(units=1,activation='sigmoid')\n",
        "])\n",
        "\n",
        "#compile the model\n",
        "learning_rate = 0.1\n",
        "model.compile(optimizer=tf.keras.optimizers.RMSprop(learning_rate),\n",
        "              loss=tf.keras.losses.binary_crossentropy,\n",
        "              metrics=['accuracy'])\n",
        "\n",
        "#show model architecture\n",
        "model.summary()\n",
        "\n",
        "#train the model\n",
        "history=model.fit(x_train,y_train,epochs=100,verbose=0)\n",
        "\n",
        "#classification scores of some testing data\n",
        "test_set=[[248,80,68],[0,0,255]]\n",
        "print('The model predicts for the two inputs', model.predict(test_set))\n",
        "print('\\nThe expected value are: [1] for [248,80,68] and [0.0] for [0,0,255]')"
      ],
      "execution_count": null,
      "outputs": [
        {
          "output_type": "stream",
          "name": "stdout",
          "text": [
            "Model: \"sequential_1\"\n",
            "_________________________________________________________________\n",
            "Layer (type)                 Output Shape              Param #   \n",
            "=================================================================\n",
            "dense_3 (Dense)              (None, 10)                40        \n",
            "_________________________________________________________________\n",
            "dense_4 (Dense)              (None, 1)                 11        \n",
            "=================================================================\n",
            "Total params: 51\n",
            "Trainable params: 51\n",
            "Non-trainable params: 0\n",
            "_________________________________________________________________\n",
            "The model predicts for the two inputs [[1.]\n",
            " [0.]]\n",
            "\n",
            "The expected value are: [1] for [248,80,68] and [0.0] for [0,0,255]\n"
          ]
        }
      ]
    },
    {
      "cell_type": "markdown",
      "metadata": {
        "id": "-zcux4yov-ud"
      },
      "source": [
        "<h4>Practice Problem 3: MNIST classification with TensorFlow and Keras!</h4>\n"
      ]
    },
    {
      "cell_type": "code",
      "metadata": {
        "colab": {
          "base_uri": "https://localhost:8080/",
          "height": 684
        },
        "id": "kSM4mI7EO6WC",
        "outputId": "b628613d-ce8c-4b4f-f14e-452c6a2fb5c9"
      },
      "source": [
        "import tensorflow as tf\n",
        "import matplotlib.pyplot as plt\n",
        "print('TensorFlow Version:',tf.__version__)\n",
        "\n",
        "#get MNIST data from repo\n",
        "mnist = tf.keras.datasets.mnist\n",
        "\n",
        "#load mnist data\n",
        "(images_train,labels_train),(images_test,labels_test) = mnist.load_data()\n",
        "\n",
        "#normalize training set data\n",
        "images_train, images_test = images_train /255.0, images_test /255.0\n",
        "print(images_train.shape)\n",
        "#create list of class names as strings\n",
        "class_names = ['zero','one','two','three','four','five','six','seven','eight','nine']\n",
        "\n",
        "#Note the input layer to the model. It consists of the image which gets flattened\n",
        "# into a one-dimensional vector (array) with 784 entries representing the pixel values\n",
        "model = tf.keras.Sequential([\n",
        "  tf.keras.layers.Flatten(input_shape=(28,28)),\n",
        "  tf.keras.layers.Dense(512,activation='relu'),\n",
        "  tf.keras.layers.Dense(10,activation='softmax') #gives class membership probabilities\n",
        "])\n",
        "model.compile(optimizer='adam',\n",
        "               loss = 'sparse_categorical_crossentropy',\n",
        "               metrics=['accuracy'])\n",
        "\n",
        "model.summary()\n",
        "\n",
        "model.fit(images_train, labels_train, epochs=1,verbose=1)\n",
        "\n",
        "model.evaluate(images_test,labels_test)\n",
        "\n",
        "#make prediction\n",
        "print(model.predict(images_test[0].reshape(-1,28,28)))\n",
        "\n",
        "#show image\n",
        "plt.imshow(images_test[0])"
      ],
      "execution_count": null,
      "outputs": [
        {
          "output_type": "stream",
          "name": "stdout",
          "text": [
            "TensorFlow Version: 2.6.0\n",
            "Downloading data from https://storage.googleapis.com/tensorflow/tf-keras-datasets/mnist.npz\n",
            "11493376/11490434 [==============================] - 0s 0us/step\n",
            "11501568/11490434 [==============================] - 0s 0us/step\n",
            "(60000, 28, 28)\n",
            "Model: \"sequential_2\"\n",
            "_________________________________________________________________\n",
            "Layer (type)                 Output Shape              Param #   \n",
            "=================================================================\n",
            "flatten (Flatten)            (None, 784)               0         \n",
            "_________________________________________________________________\n",
            "dense_5 (Dense)              (None, 512)               401920    \n",
            "_________________________________________________________________\n",
            "dense_6 (Dense)              (None, 10)                5130      \n",
            "=================================================================\n",
            "Total params: 407,050\n",
            "Trainable params: 407,050\n",
            "Non-trainable params: 0\n",
            "_________________________________________________________________\n",
            "1875/1875 [==============================] - 7s 4ms/step - loss: 0.2008 - accuracy: 0.9404\n",
            "313/313 [==============================] - 1s 2ms/step - loss: 0.1146 - accuracy: 0.9651\n",
            "[[3.0360163e-06 4.0748631e-07 1.9519133e-04 4.5826001e-04 1.8853749e-08\n",
            "  4.8830484e-06 5.3094609e-09 9.9932909e-01 1.1082565e-06 8.1144244e-06]]\n"
          ]
        },
        {
          "output_type": "execute_result",
          "data": {
            "text/plain": [
              "<matplotlib.image.AxesImage at 0x7f4d072e8550>"
            ]
          },
          "metadata": {},
          "execution_count": 12
        },
        {
          "output_type": "display_data",
          "data": {
            "image/png": "[encoded data removed]",
            "text/plain": [
              "<Figure size 432x288 with 1 Axes>"
            ]
          },
          "metadata": {
            "needs_background": "light"
          }
        }
      ]
    },
    {
      "cell_type": "code",
      "metadata": {
        "colab": {
          "base_uri": "https://localhost:8080/"
        },
        "id": "wGyahIkbRpX_",
        "outputId": "c373ebdb-ca73-4317-c8bb-642ebe49b436"
      },
      "source": [
        "images_test[0].shape\n",
        "images_test[0].reshape(-1,28,28)\n",
        "model.predict(images_test[0].reshape(-1,28,28))"
      ],
      "execution_count": null,
      "outputs": [
        {
          "output_type": "execute_result",
          "data": {
            "text/plain": [
              "array([[3.0360163e-06, 4.0748631e-07, 1.9519133e-04, 4.5826001e-04,\n",
              "        1.8853749e-08, 4.8830484e-06, 5.3094609e-09, 9.9932909e-01,\n",
              "        1.1082565e-06, 8.1144244e-06]], dtype=float32)"
            ]
          },
          "metadata": {},
          "execution_count": 13
        }
      ]
    },
    {
      "cell_type": "markdown",
      "metadata": {
        "id": "-Ev-3Yy1werR"
      },
      "source": [
        "<h2>Exercises</h2>\n",
        "<br>\n",
        "<h3>Exercise 1</h3>"
      ]
    },
    {
      "cell_type": "code",
      "metadata": {
        "id": "RGDaq2AUUzyZ",
        "colab": {
          "base_uri": "https://localhost:8080/",
          "height": 1000
        },
        "outputId": "ce0df61f-c2ce-4055-e368-a45af9922435"
      },
      "source": [
        "import tensorflow as tf\n",
        "import matplotlib.pyplot as plt\n",
        "print('TensorFlow Version:',tf.__version__)\n",
        "\n",
        "#get MNIST data from repo\n",
        "mnist = tf.keras.datasets.mnist\n",
        "\n",
        "#load mnist data\n",
        "(images_train,labels_train),(images_test,labels_test) = mnist.load_data()\n",
        "\n",
        "#normalize training set data\n",
        "images_train, images_test = images_train /255.0, images_test /255.0\n",
        "print(images_train.shape)\n",
        "#create list of class names as strings\n",
        "class_names = ['zero','one','two','three','four','five','six','seven','eight','nine']\n",
        "\n",
        "#Note the input layer to the model. It consists of the image which gets flattened\n",
        "# into a one-dimensional vector (array) with 784 entries representing the pixel values\n",
        "cool_model = tf.keras.Sequential([\n",
        "  tf.keras.layers.Flatten(input_shape=(28,28)),\n",
        "  tf.keras.layers.Dense(512, activation='sigmoid')\n",
        "])\n",
        "\n",
        "#compile the model\n",
        "cool_model.compile(optimizer='adam',\n",
        "               loss = 'sparse_categorical_crossentropy',\n",
        "               metrics=['accuracy'])\n",
        "\n",
        "#model archtecture\n",
        "cool_model.summary()\n",
        "\n",
        "#training the model\n",
        "history = model.fit(images_train, labels_train, epochs=5,verbose=1)\n",
        "\n",
        "#using history to plot loss and acc\n",
        "hist = pd.DataFrame(history.history)\n",
        "hist['epoch'] = history.epoch\n",
        "hist.tail()\n",
        "plt.xlabel('epoch')\n",
        "plt.ylabel('loss')\n",
        "plt.plot(history.history['loss'])\n",
        "plt.show()\n",
        "\n",
        "#evaluating the model\n",
        "cool_model.evaluate(images_test,labels_test)\n",
        "\n",
        "#make prediction\n",
        "print(model.predict(images_test[0].reshape(-1,28,28)))\n",
        "\n",
        "#show image\n",
        "plt.imshow(images_test[0])"
      ],
      "execution_count": null,
      "outputs": [
        {
          "output_type": "stream",
          "name": "stdout",
          "text": [
            "TensorFlow Version: 2.6.0\n",
            "(60000, 28, 28)\n",
            "Model: \"sequential_3\"\n",
            "_________________________________________________________________\n",
            "Layer (type)                 Output Shape              Param #   \n",
            "=================================================================\n",
            "flatten_1 (Flatten)          (None, 784)               0         \n",
            "_________________________________________________________________\n",
            "dense_7 (Dense)              (None, 512)               401920    \n",
            "=================================================================\n",
            "Total params: 401,920\n",
            "Trainable params: 401,920\n",
            "Non-trainable params: 0\n",
            "_________________________________________________________________\n",
            "Epoch 1/5\n",
            "1875/1875 [==============================] - 7s 4ms/step - loss: 0.0807 - accuracy: 0.9753\n",
            "Epoch 2/5\n",
            "1875/1875 [==============================] - 7s 4ms/step - loss: 0.0527 - accuracy: 0.9831\n",
            "Epoch 3/5\n",
            "1875/1875 [==============================] - 7s 4ms/step - loss: 0.0367 - accuracy: 0.9887\n",
            "Epoch 4/5\n",
            "1875/1875 [==============================] - 7s 4ms/step - loss: 0.0264 - accuracy: 0.9915\n",
            "Epoch 5/5\n",
            "1875/1875 [==============================] - 7s 4ms/step - loss: 0.0219 - accuracy: 0.9929\n"
          ]
        },
        {
          "output_type": "display_data",
          "data": {
            "image/png": "[encoded data removed]",
            "text/plain": [
              "<Figure size 432x288 with 1 Axes>"
            ]
          },
          "metadata": {
            "needs_background": "light"
          }
        },
        {
          "output_type": "stream",
          "name": "stdout",
          "text": [
            "313/313 [==============================] - 1s 2ms/step - loss: 6.1921 - accuracy: 0.0069\n",
            "[[1.1221747e-09 4.2938630e-10 4.4708024e-09 5.8516239e-06 5.8592494e-14\n",
            "  2.8607389e-10 3.9143967e-14 9.9998903e-01 1.5706988e-09 5.0716494e-06]]\n"
          ]
        },
        {
          "output_type": "execute_result",
          "data": {
            "text/plain": [
              "<matplotlib.image.AxesImage at 0x7f4d070fc6d0>"
            ]
          },
          "metadata": {},
          "execution_count": 14
        },
        {
          "output_type": "display_data",
          "data": {
            "image/png": "[encoded data removed]",
            "text/plain": [
              "<Figure size 432x288 with 1 Axes>"
            ]
          },
          "metadata": {
            "needs_background": "light"
          }
        }
      ]
    },
    {
      "cell_type": "markdown",
      "metadata": {
        "id": "G9dzCdlowqxb"
      },
      "source": [
        "<h3>Exercise 2</h3>"
      ]
    },
    {
      "cell_type": "code",
      "metadata": {
        "colab": {
          "base_uri": "https://localhost:8080/",
          "height": 1000
        },
        "id": "DnZaYDEFwsxl",
        "outputId": "261a856c-0948-4996-e0f4-f9a78e6c4cca"
      },
      "source": [
        "import tensorflow as tf\n",
        "import matplotlib.pyplot as plt\n",
        "print('TensorFlow Version:',tf.__version__)\n",
        "\n",
        "#get MNIST data from repo\n",
        "mnist = tf.keras.datasets.mnist\n",
        "\n",
        "#load mnist data\n",
        "(images_train,labels_train),(images_test,labels_test) = mnist.load_data()\n",
        "\n",
        "#normalize training set data\n",
        "images_train, images_test = images_train /255.0, images_test /255.0\n",
        "print(images_train.shape)\n",
        "#create list of class names as strings\n",
        "class_names = ['zero','one','two','three','four','five','six','seven','eight','nine']\n",
        "\n",
        "#Note the input layer to the model. It consists of the image which gets flattened\n",
        "# into a one-dimensional vector (array) with 784 entries representing the pixel values\n",
        "cool_model = tf.keras.Sequential([\n",
        "  tf.keras.layers.Flatten(input_shape=(28,28)),\n",
        "  tf.keras.layers.Dense(512, activation='softmax')\n",
        "])\n",
        "\n",
        "#compile the model\n",
        "cool_model.compile(optimizer='adam',\n",
        "               loss = 'sparse_categorical_crossentropy',\n",
        "               metrics=['accuracy'])\n",
        "\n",
        "#model archtecture\n",
        "cool_model.summary()\n",
        "\n",
        "#training the model\n",
        "history = model.fit(images_train, labels_train, epochs=5,verbose=1)\n",
        "\n",
        "#using history to plot loss and acc\n",
        "hist = pd.DataFrame(history.history)\n",
        "hist['epoch'] = history.epoch\n",
        "hist.tail()\n",
        "plt.xlabel('epoch')\n",
        "plt.ylabel('loss')\n",
        "plt.plot(history.history['loss'])\n",
        "plt.show()\n",
        "\n",
        "#evaluating the model\n",
        "cool_model.evaluate(images_test,labels_test)\n",
        "\n",
        "#make prediction\n",
        "print(model.predict(images_test[0].reshape(-1,28,28)))\n",
        "\n",
        "#show image\n",
        "plt.imshow(images_test[0])"
      ],
      "execution_count": null,
      "outputs": [
        {
          "output_type": "stream",
          "name": "stdout",
          "text": [
            "TensorFlow Version: 2.6.0\n",
            "(60000, 28, 28)\n",
            "Model: \"sequential_4\"\n",
            "_________________________________________________________________\n",
            "Layer (type)                 Output Shape              Param #   \n",
            "=================================================================\n",
            "flatten_2 (Flatten)          (None, 784)               0         \n",
            "_________________________________________________________________\n",
            "dense_8 (Dense)              (None, 512)               401920    \n",
            "=================================================================\n",
            "Total params: 401,920\n",
            "Trainable params: 401,920\n",
            "Non-trainable params: 0\n",
            "_________________________________________________________________\n",
            "Epoch 1/5\n",
            "1875/1875 [==============================] - 7s 4ms/step - loss: 0.0156 - accuracy: 0.9948\n",
            "Epoch 2/5\n",
            "1875/1875 [==============================] - 7s 4ms/step - loss: 0.0138 - accuracy: 0.9957\n",
            "Epoch 3/5\n",
            "1875/1875 [==============================] - 7s 4ms/step - loss: 0.0131 - accuracy: 0.9955\n",
            "Epoch 4/5\n",
            "1875/1875 [==============================] - 7s 4ms/step - loss: 0.0087 - accuracy: 0.9974\n",
            "Epoch 5/5\n",
            "1875/1875 [==============================] - 7s 4ms/step - loss: 0.0115 - accuracy: 0.9961\n"
          ]
        },
        {
          "output_type": "display_data",
          "data": {
            "image/png": "[encoded data removed]",
            "text/plain": [
              "<Figure size 432x288 with 1 Axes>"
            ]
          },
          "metadata": {
            "needs_background": "light"
          }
        },
        {
          "output_type": "stream",
          "name": "stdout",
          "text": [
            "313/313 [==============================] - 1s 2ms/step - loss: 6.1701 - accuracy: 0.0021\n",
            "[[4.33285526e-11 5.96415346e-14 1.01686104e-10 3.21703486e-09\n",
            "  6.14176104e-18 6.69338825e-13 1.77079689e-16 1.00000000e+00\n",
            "  6.71963678e-13 5.31030295e-08]]\n"
          ]
        },
        {
          "output_type": "execute_result",
          "data": {
            "text/plain": [
              "<matplotlib.image.AxesImage at 0x7f4d099cf910>"
            ]
          },
          "metadata": {},
          "execution_count": 15
        },
        {
          "output_type": "display_data",
          "data": {
            "image/png": "[encoded data removed]",
            "text/plain": [
              "<Figure size 432x288 with 1 Axes>"
            ]
          },
          "metadata": {
            "needs_background": "light"
          }
        }
      ]
    },
    {
      "cell_type": "code",
      "metadata": {
        "id": "aBZwo9TT1VKi"
      },
      "source": [],
      "execution_count": null,
      "outputs": []
    }
  ]
}