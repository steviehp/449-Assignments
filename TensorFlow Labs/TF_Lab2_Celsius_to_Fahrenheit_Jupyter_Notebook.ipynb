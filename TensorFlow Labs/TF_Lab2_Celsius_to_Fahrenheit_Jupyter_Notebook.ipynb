{
  "nbformat": 4,
  "nbformat_minor": 0,
  "metadata": {
    "colab": {
      "provenance": []
    },
    "kernelspec": {
      "name": "python3",
      "display_name": "Python 3"
    },
    "language_info": {
      "name": "python"
    }
  },
  "cells": [
    {
      "cell_type": "markdown",
      "metadata": {
        "id": "UgrZOAAwaSSe"
      },
      "source": [
        "<h1>ISAT 449 - Emerging Topics in Applied Data Science</h1>\n",
        "<h2>TensorFlow-Keras: Single Layer Single Neuron Model</h2>\n",
        "<h3>Training Your First TensorFlow-Keras Model (Temperature Conversion)</h3>\n",
        "<h3>Problem and Objectives</h3>\n",
        "<p>Let's solve the problem from the lecture with TensorFlow and Keras. We want to create a model that converts from degree Celsius to degree Fahrenheit. The formula, that we know from our physics class is:</p>\n",
        "$F=\\frac{9}{5}\\times C+32$\n",
        "<p>We could easily solve this using Python but we want to illustrate how to do it with machine learning.</p>\n",
        "<ul>\n",
        "  <li>To this end, we will give TensorFlow some sample Celsius data values (-40,-10, 0, 8, 15, 22, 38) and their corresponding Fahrenheit data values (-40,14, 32, 46, 59, 72, 100).</li>\n",
        "  <li>Then, we will train a model that figures out the above formula through the training process.</li>  \n",
        "</ul>\n"
      ]
    },
    {
      "cell_type": "code",
      "metadata": {
        "id": "cddMKnf3aqSQ"
      },
      "source": [],
      "execution_count": null,
      "outputs": []
    },
    {
      "cell_type": "markdown",
      "metadata": {
        "id": "6mXBmQGtcMFv"
      },
      "source": [
        "<h1>Imports</h1>\n",
        "<ul>\n",
        "  <li>First, import TensorFlow. Here, we're calling it tf (an alias), for ease of use.\n",
        "  </li>\n",
        "  <li>Next, import NumPy (http://www.numpy.org/) as np . Numpy is a high performining numerical library that helps us represent and process our data as high performing arrays.\n",
        "  </li>\n",
        "</ul>"
      ]
    },
    {
      "cell_type": "code",
      "metadata": {
        "colab": {
          "base_uri": "https://localhost:8080/"
        },
        "id": "EqJFToY2cQP-",
        "outputId": "2b5293cf-099c-4b3f-8efb-cde504c28375"
      },
      "source": [
        "#Importing\n",
        "import tensorflow as tf\n",
        "import numpy as np\n",
        "print('TensorFlow version:', tf.__version__)"
      ],
      "execution_count": null,
      "outputs": [
        {
          "output_type": "stream",
          "name": "stdout",
          "text": [
            "TensorFlow version: 2.6.0\n"
          ]
        }
      ]
    },
    {
      "cell_type": "markdown",
      "metadata": {
        "id": "zkXTUNKDc6jY"
      },
      "source": [
        "<h2>Set up training data</h2>\n",
        "<p>This is Supervised Machine Learning where we wll figure out an algorithm given a set of inputs and outputs. Since the task in this Colab is to create a model that can give the\n",
        "temperature in Fahrenheit when given the degrees in Celsius, we create two lists, celsius and fahrenheit , that we can use to train our model.\n",
        "</p>"
      ]
    },
    {
      "cell_type": "code",
      "metadata": {
        "colab": {
          "base_uri": "https://localhost:8080/"
        },
        "id": "tZN9rkjqc0c3",
        "outputId": "f706bee9-29d2-490e-bc0c-12549b9d3581"
      },
      "source": [
        "#create numpy arrays from python lists\n",
        "celsius = np.array([-40,-10,0,8,15,22,38], dtype=float)\n",
        "fahrenheit = np.array([-40,14,32,46,59,72,100],dtype=float)\n",
        "\n",
        "#print the data pairs\n",
        "for i,c in enumerate(celsius):\n",
        "  print('{} degrees Celsius = {} degrees Fahrenheit'.format(c, fahrenheit[i]))"
      ],
      "execution_count": null,
      "outputs": [
        {
          "output_type": "stream",
          "name": "stdout",
          "text": [
            "-40.0 degrees Celsius = -40.0 degrees Fahrenheit\n",
            "-10.0 degrees Celsius = 14.0 degrees Fahrenheit\n",
            "0.0 degrees Celsius = 32.0 degrees Fahrenheit\n",
            "8.0 degrees Celsius = 46.0 degrees Fahrenheit\n",
            "15.0 degrees Celsius = 59.0 degrees Fahrenheit\n",
            "22.0 degrees Celsius = 72.0 degrees Fahrenheit\n",
            "38.0 degrees Celsius = 100.0 degrees Fahrenheit\n"
          ]
        }
      ]
    },
    {
      "cell_type": "markdown",
      "metadata": {
        "id": "ZP_ne9iUdjpM"
      },
      "source": [
        "<h2>Recall Important Machine Learning Technology</h2>\n",
        "<ul>\n",
        "  <li>Feature(s) — The input(s) to our model. In this case, a single value — the degrees in Celsius.\n",
        "  </li>\n",
        "  <li>Labels — The output our model predicts. In this case, a single value — the degrees in Fahrenheit.\n",
        "  </li>\n",
        "  <li>Sample — A pair of inputs/outputs used during training. In our case a pair of values from celsius and fahrenheit at a specific index, such as (15,59) .\n",
        "  </li>\n",
        "</ul>\n",
        "<br>\n",
        "<h2>Create the model</h2>\n",
        "<p>Next create the model. We will use simplest possible model we can, a Dense network. Since the problem is straightforward, this network will require only a single layer, with a single\n",
        "neuron.\n",
        "</p>\n",
        "<br>\n",
        "<h2>Build a layer</h2>\n",
        "<p>We'll call the layer l0 (for layer zero) and create it by instantiating tf.keras.layers.Dense with the following configuration:\n",
        "<ul>\n",
        "  <li>input_shape=[1] — This specifies that the input to this layer is a single value. That is, the shape is a one-dimensional array with one member. Since this is the first (and only)\n",
        "layer, that input shape is the input shape of the entire model. The single value is a floating point number, representing degrees Celsius</li>\n",
        "  <li>units=1 — This specifies the number of neurons in the layer. The number of neurons defines how many internal variables the layer has to try to learn how to solve the problem\n",
        "(more later). Since this is the final layer, it is also the size of the model's output — a single float value representing degrees Fahrenheit. (In a multi-layered network, the size and\n",
        "shape of the layer would need to match the input_shape of the next layer.)</li>\n",
        "</ul>\n",
        "</p>\n",
        "<p>\n",
        "The code to do this, as discussed in the lecture is:\n",
        "</p>"
      ]
    },
    {
      "cell_type": "code",
      "metadata": {
        "id": "n7owYpnTdh7m"
      },
      "source": [
        "l0 = tf.keras.layers.Dense(units=1, input_shape=(1,))"
      ],
      "execution_count": null,
      "outputs": []
    },
    {
      "cell_type": "markdown",
      "metadata": {
        "id": "ZRnT2qWsfG0V"
      },
      "source": [
        "<h2>Assemble layers into the model</h2>\n",
        "<h2>The Sequential Model</h2>\n",
        "<p>Once layers are defined, they need to be assembled into a model. The Sequential model definition takes a list of layers as argument, specifying the calculation order from the input to\n",
        "the output.\n",
        "<br>\n",
        "This model has just a single layer, l0 .\n",
        "</p>\n"
      ]
    },
    {
      "cell_type": "code",
      "metadata": {
        "id": "7WBCZbpyenZ-"
      },
      "source": [
        "model = tf.keras.Sequential([l0])"
      ],
      "execution_count": null,
      "outputs": []
    },
    {
      "cell_type": "markdown",
      "metadata": {
        "id": "_ixRZbjlfpIN"
      },
      "source": [
        "<h6>Note</h6>\n",
        "<p>You will often see the layers defined inside the model definition, rather than beforehand</p>\n",
        "\n",
        "```\n",
        "model = tf.keras.Sequential([\n",
        "  tf.keras.layers.Dense(units=1, input_shape=[1])\n",
        "])\n",
        "```\n",
        "<h3>Look at the model's architecture</h3>\n"
      ]
    },
    {
      "cell_type": "code",
      "metadata": {
        "colab": {
          "base_uri": "https://localhost:8080/"
        },
        "id": "5uqepMLhfV23",
        "outputId": "8b5e1ead-2ad9-4aa5-d3e4-b27d7d5c690c"
      },
      "source": [
        "model.summary()"
      ],
      "execution_count": null,
      "outputs": [
        {
          "output_type": "stream",
          "name": "stdout",
          "text": [
            "Model: \"sequential\"\n",
            "_________________________________________________________________\n",
            "Layer (type)                 Output Shape              Param #   \n",
            "=================================================================\n",
            "dense (Dense)                (None, 1)                 2         \n",
            "=================================================================\n",
            "Total params: 2\n",
            "Trainable params: 2\n",
            "Non-trainable params: 0\n",
            "_________________________________________________________________\n"
          ]
        }
      ]
    },
    {
      "cell_type": "markdown",
      "metadata": {
        "id": "4tz6pINHgNbs"
      },
      "source": [
        "<h1>Compile the model, with loss and optimizer functions</h1>\n",
        "<p>Before training, the model has to be compiled. When compiled for training, the model is given:</p>\n",
        "<ul>\n",
        "  <li>Loss Function - A way of measuring how far off predictions are from the desired outcome. (The measured difference is called the \"loss\".</li>\n",
        "  <li>Optimizer Function - A way of adjusting internal values in order to reduce the loss</li>\n",
        "</ul>"
      ]
    },
    {
      "cell_type": "code",
      "metadata": {
        "id": "ZVXYVraEgM05"
      },
      "source": [
        "model.compile(loss='mean_squared_error',\n",
        "              optimizer=tf.keras.optimizers.Adam(0.1))"
      ],
      "execution_count": null,
      "outputs": []
    },
    {
      "cell_type": "markdown",
      "metadata": {
        "id": "EHTAUreHg1IA"
      },
      "source": [
        "<p>These are used during training ( model.fit() , below) to first calculate the loss at each point, and then improve it. In fact, the act of calculating the current loss of a model and then\n",
        "improving it is precisely what we mean by training a model.\n",
        "<br>\n",
        "During training, the optimizer function is used to calculate adjustments to the model's internal variables. The goal is to adjust the internal variables until the model (which is really a math\n",
        "function) mirrors the actual equation for converting Celsius to Fahrenheit.\n",
        "<br>\n",
        "TensorFlow uses numerical analysis to do this. What is useful to know about these parameters are:\n",
        "<ul>\n",
        "  <li>The loss function (mean squared error (https://www.youtube.com/watch?v=mdKjMPmcWjY&ab_channel=CodeEmporium)) used here and the optimizer (Adam\n",
        "(https://www.wikidata.org/wiki/Q29410287))are standard for simple models like this one, but many others are available.\n",
        "</li>\n",
        "  <li>One part of the Optimizer you may need to think about when building your own models is the learning rate ( 0.1 in the code above). This is the step size taken when adjusting\n",
        "values in the model.\n",
        "    <ul>\n",
        "      <li>If the value is too small, it will take too many iterations to train the model</li>\n",
        "      <li>Too large, and accuracy goes down</li>\n",
        "      <li>Finding a good value often involves some trial and error, but the range is usually within 0.001 (default), and 0.1\n",
        "</li>\n",
        "    </ul>\n",
        "  </li>\n",
        "</ul>\n",
        "\n",
        "<h2>Train the model</h2>\n",
        "<p>Train the model by calling the fit method</p>\n",
        "<p>During training, the model takes in Celsius values, performs a calculation using the current internal variables (called \"weights\") and outputs values which are meant to be the Fahrenheit\n",
        "equivalent. Since the weights are initially set randomly, the output will not be close to the correct value. The difference between the actual output and the desired output is calculated\n",
        "using the loss function, and the optimizer function directs how the weights should be adjusted</p>\n",
        "<p>This cycle of calculate, compare, adjust is controlled by the fit method</p>\n",
        "<ol>\n",
        "  <li>The first argument is the inputs</li>\n",
        "  <li>The second argument is the desired outputs</li>\n",
        "  <li>The epochs argument specifies how many times this cycle should be run</li>\n",
        "  <li>The verbose argument controls how much output the method produces</li>\n",
        "</ol>"
      ]
    },
    {
      "cell_type": "code",
      "metadata": {
        "colab": {
          "base_uri": "https://localhost:8080/"
        },
        "id": "3KgB9zDTgzJF",
        "outputId": "4cadcb7f-1e92-4fb5-a143-905848b5486c"
      },
      "source": [
        "history = model.fit(celsius, fahrenheit, epochs=500, verbose=False)\n",
        "print('Finished training the model')"
      ],
      "execution_count": null,
      "outputs": [
        {
          "output_type": "stream",
          "name": "stdout",
          "text": [
            "Finished training the model\n"
          ]
        }
      ]
    },
    {
      "cell_type": "markdown",
      "metadata": {
        "id": "WdgCfeaoiX1V"
      },
      "source": [
        "<h2>Use the model to predict values</h2>\n",
        "<p>Now you have a model that has been trained to learn the relationship between celsius and fahrenheit . You can use the predict method to have it calculate the Fahrenheit\n",
        "degrees for a previously unknown Celsius degrees.</p>\n",
        "<br>\n",
        "<p>So, for example, if the Celsius value is 100, what do you think the Fahrenheit result will be? Take a guess before you run this code.\n",
        "</p>"
      ]
    },
    {
      "cell_type": "code",
      "metadata": {
        "colab": {
          "base_uri": "https://localhost:8080/"
        },
        "id": "eV_fMKiJiUXA",
        "outputId": "9ed70676-68f7-4f48-ebc2-80f60df6005f"
      },
      "source": [
        "print('Model predicts that the 100 degrees Celsius corresponds to {0:.3f} degrees Fahrenheit'.format(model.predict([100.0])[0][0]))"
      ],
      "execution_count": null,
      "outputs": [
        {
          "output_type": "stream",
          "name": "stdout",
          "text": [
            "Model predicts that the 100 degrees Celsius corresponds to 211.329 degrees Fahrenheit\n"
          ]
        }
      ]
    },
    {
      "cell_type": "markdown",
      "metadata": {
        "id": "bg9NrFO2pCl-"
      },
      "source": [
        "<h3>To review</h3>\n",
        "<ul>\n",
        "  <li>We created a model with a Dense Layer</li>\n",
        "  <li>We trained it with 3500 examples(7 pairs, over 500 epochs)</li>\n",
        "</ul>\n",
        "<p>Our model tuned the variables (weights) in the Dense layer until it was able to return the correct Fahrenheit value for any Celsius value. (Remember, 100 Celsius was not part of our\n",
        "training data.)\n",
        "</p>\n",
        "<h2>Looking at the layer weights</h2>\n",
        "<p>Finally, lets print the internal variables of the Dense layer</p>\n"
      ]
    },
    {
      "cell_type": "code",
      "metadata": {
        "id": "kgYeEav5is-1",
        "colab": {
          "base_uri": "https://localhost:8080/"
        },
        "outputId": "983bbc2f-1f43-4d79-8e1f-7f033c5600b8"
      },
      "source": [
        "print('These are the layer variables: {}'.format(l0.get_weights()))"
      ],
      "execution_count": null,
      "outputs": [
        {
          "output_type": "stream",
          "name": "stdout",
          "text": [
            "These are the layer variables: [array([[1.8218627]], dtype=float32), array([29.142672], dtype=float32)]\n"
          ]
        }
      ]
    },
    {
      "cell_type": "markdown",
      "metadata": {
        "id": "enTTrsdrp7Oj"
      },
      "source": [
        "<p>The first variable is close to ~1.8 (9/5 = 1.8 and the second to ~32. These values (1.8 and 32) are the actual variables in the real conversion formula.\n",
        "<br>\n",
        "This is really close to the values in the conversion formula. We'll explain this in an upcoming video where we show how a Dense layer works, but for a single neuron with a single input\n",
        "and a single output, the internal math looks the same as the equation for a line (https://en.wikipedia.org/wiki/Linear_equation#Slope%E2%80%93intercept_form),𝑦 = 𝑚𝑥 + 𝑏 , which\n",
        "has the same form as the conversion equation, .\n",
        "<br>\n",
        "Since the form is the same, the variables should converge on the standard values of 1.8 and 32, which is exactly what happened.\n",
        "𝑓 = 1.8𝑐 + 32\n",
        "<br>\n",
        "So based on the weight (slope) and bias(intercept) our model is:\n",
        "</p>\n",
        "$$F=1.82\\times C+29.24$$\n",
        "<p>With additional neurons, additional inputs and additional outputs, the formula becomes much more complex, but the idea is the same.</p>\n",
        "<h3>Comment</h3>\n",
        "<p>As we note above, in practice, you will hardly ever see the layer(s) of a model defined beforehand and outside of the Sequential statement. What you will see is see the layers\n",
        "defined inside the model definition as indicated below:</p>\n",
        "\n",
        "\n",
        "```\n",
        "model = tf.keras.Sequential([\n",
        "  tf.keras.layers.Dense(units=1, input_shape=[1])\n",
        "])\n",
        "```\n",
        "\n",
        "<p>You should especially take note that the layer(s) are elements of a python list</p>"
      ]
    },
    {
      "cell_type": "markdown",
      "metadata": {
        "id": "BHP0IFP_r71T"
      },
      "source": [
        "<h2>Exercises</h2>\n",
        "<h4>Exercise 1</h4>\n",
        "<p>Reconstruct our Sequential model using this appoach and train it on the same dataset. The statements to compile and train (fit) it are exacly the same. Put all of your code here:</p>"
      ]
    },
    {
      "cell_type": "code",
      "metadata": {
        "colab": {
          "base_uri": "https://localhost:8080/"
        },
        "id": "LpCYkQWYrL_o",
        "outputId": "9a6f4392-9b47-4910-8162-b8461feb53a5"
      },
      "source": [
        "model = tf.keras.Sequential([\n",
        "  tf.keras.layers.Dense(units=1, input_shape=[1])\n",
        "])\n",
        "\n",
        "model.compile(loss='mean_squared_error',optimizer=tf.keras.optimizers.Adam(0.1))\n",
        "\n",
        "model.fit(celsius, fahrenheit, epochs=500, verbose=False)\n",
        "print('Done!')"
      ],
      "execution_count": null,
      "outputs": [
        {
          "output_type": "stream",
          "name": "stdout",
          "text": [
            "Done!\n"
          ]
        }
      ]
    },
    {
      "cell_type": "markdown",
      "metadata": {
        "id": "Zdw-vyfssH78"
      },
      "source": [
        "<h4>Exercise 2</h4>\n",
        "<p>Add two additional layers to your Sequential model using this appraoch. The second layer should have 3 neurons and the final layer should have 1 neuron so the three layers would be:</p>\n",
        "<ul>\n",
        "  <li>l0 = tf.keras.layers.Dense(units=1, input_shape=[1])</li>\n",
        "  <li>l1 = tf.keras.layers.Dense(units=3)</li>\n",
        "  <li>l2 = tf.keras.layers.Dense(units=1)</li>\n",
        "</ul>\n",
        "<p>You should note that each additional layer that adds neurons (units) also adds more variables to your model and the simple two variable relationship we saw above become far more\n",
        "complex.\n",
        "<br>\n",
        "In the cell below call the summary method of the model and examine its architecture. The code to do this(as we saw above) is :\n",
        "\n",
        "```\n",
        "model.summary()\n",
        "```\n",
        "Briefly comment inidcating your understanding. Specifically,can you explain the value for Total params ? HINT: Don't forget to count biases.\n",
        "\n"
      ]
    },
    {
      "cell_type": "code",
      "metadata": {
        "colab": {
          "base_uri": "https://localhost:8080/"
        },
        "id": "QuBJ2M7opwIR",
        "outputId": "b40e1f3e-d314-42a0-f7da-f33cd25139e5"
      },
      "source": [
        "model.summary()\n",
        "#Layer type is basically saying what kind of layer it is, we put dense.\n",
        "#Output shape is basically the input_shape, we used [1]\n",
        "#Param # is the fit, so celsius and fahrenheit\n",
        "#Total params: 2 means that the things we fit based on which is again the celsius and fahrenheit"
      ],
      "execution_count": null,
      "outputs": [
        {
          "output_type": "stream",
          "name": "stdout",
          "text": [
            "Model: \"sequential_3\"\n",
            "_________________________________________________________________\n",
            "Layer (type)                 Output Shape              Param #   \n",
            "=================================================================\n",
            "dense_5 (Dense)              (None, 1)                 2         \n",
            "=================================================================\n",
            "Total params: 2\n",
            "Trainable params: 2\n",
            "Non-trainable params: 0\n",
            "_________________________________________________________________\n"
          ]
        }
      ]
    },
    {
      "cell_type": "markdown",
      "metadata": {
        "id": "KBUeOLlSspb8"
      },
      "source": [
        "<h4>Exercise 3</h4>\n",
        "<p>Run the code below for the model</p>"
      ]
    },
    {
      "cell_type": "code",
      "metadata": {
        "colab": {
          "base_uri": "https://localhost:8080/"
        },
        "id": "nqZAGcwBsvAU",
        "outputId": "630304c2-d97e-4187-8b3d-48491aa204e1"
      },
      "source": [
        "#create layers\n",
        "l0 = tf.keras.layers.Dense(units=4,input_shape=[1])\n",
        "l1 = tf.keras.layers.Dense(units=4)\n",
        "l2 = tf.keras.layers.Dense(units=1)\n",
        "\n",
        "#assemble the model\n",
        "model = tf.keras.Sequential([l0,l1,l2])\n",
        "\n",
        "#compile the model\n",
        "model.compile(loss='mean_squared_error', optimizer=tf.keras.optimizers.Adam(0.1))\n",
        "\n",
        "#train the model\n",
        "model.fit(celsius, fahrenheit, epochs=500, verbose=False)\n",
        "\n",
        "print('Finished training the model\\n')\n",
        "#make a prediction\n",
        "print('Model predicts that 100 degrees Celsius is: {0:.3f} degrees Fahrenheit\\n'.format(model.predict([100])[0][0]))"
      ],
      "execution_count": null,
      "outputs": [
        {
          "output_type": "stream",
          "name": "stdout",
          "text": [
            "Finished training the model\n",
            "\n",
            "Model predicts that 100 degrees Celsius is: 211.747 degrees Fahrenheit\n",
            "\n"
          ]
        }
      ]
    },
    {
      "cell_type": "markdown",
      "metadata": {
        "id": "_hJrqIEQtlPP"
      },
      "source": [
        "<p>Now, let's examine the weights in each layer. Make sure you add up the number of varaibles to get the total.\n",
        "</p>"
      ]
    },
    {
      "cell_type": "code",
      "metadata": {
        "colab": {
          "base_uri": "https://localhost:8080/"
        },
        "id": "-WAqGN_CtjKV",
        "outputId": "dbfd4a4a-ea3a-4ee4-d666-1faad6f258ee"
      },
      "source": [
        "print('These are the layer zero (l0) variables: \\n{}\\n'.format(l0.get_weights()))\n",
        "print('These are the layer one (l1) variables: \\n{}\\n'.format(l1.get_weights()))\n",
        "print('There are the layer two (l2) variables: \\n()\\n'.format(l2.get_weights()))"
      ],
      "execution_count": null,
      "outputs": [
        {
          "output_type": "stream",
          "name": "stdout",
          "text": [
            "These are the layer zero (l0) variables: \n",
            "[array([[ 0.37408137, -0.39742556, -0.9571982 ,  0.22197145]],\n",
            "      dtype=float32), array([-2.5699284, -3.323159 , -3.3697538, -0.502955 ], dtype=float32)]\n",
            "\n",
            "These are the layer one (l1) variables: \n",
            "[array([[-0.3427481 ,  0.28380033, -1.2585084 , -0.9952351 ],\n",
            "       [-1.2022073 ,  0.2173424 , -1.2692256 ,  0.19481821],\n",
            "       [-1.1225858 , -0.3077973 ,  0.16608585, -0.622954  ],\n",
            "       [ 0.27415904,  0.5499032 , -0.73264766,  0.1690531 ]],\n",
            "      dtype=float32), array([3.333244 , 2.448188 , 3.3790123, 3.3851452], dtype=float32)]\n",
            "\n",
            "There are the layer two (l2) variables: \n",
            "()\n",
            "\n"
          ]
        }
      ]
    },
    {
      "cell_type": "markdown",
      "metadata": {
        "id": "rnHiTvi5t_qO"
      },
      "source": [
        "<p>As you can see, this model is also able to predict the corresponding Fahrenheit value really well. But when you look at the variables (weights) in the l0 and l1 layers, they look\n",
        "nothing like we previously observerd and are not even close to ~1.8 and ~32. The added complexity hides the \"simple\" form of the conversion equation.\n",
        "<br>\n",
        "Now call the model's summary method: model.summary()\n",
        "</p>"
      ]
    },
    {
      "cell_type": "code",
      "metadata": {
        "colab": {
          "base_uri": "https://localhost:8080/"
        },
        "id": "zj6U6rtet-8X",
        "outputId": "c6d46289-74ab-4f14-ccb2-1055c732eca4"
      },
      "source": [
        "model.summary()"
      ],
      "execution_count": null,
      "outputs": [
        {
          "output_type": "stream",
          "name": "stdout",
          "text": [
            "Model: \"sequential_1\"\n",
            "_________________________________________________________________\n",
            "Layer (type)                 Output Shape              Param #   \n",
            "=================================================================\n",
            "dense_1 (Dense)              (None, 4)                 8         \n",
            "_________________________________________________________________\n",
            "dense_2 (Dense)              (None, 4)                 20        \n",
            "_________________________________________________________________\n",
            "dense_3 (Dense)              (None, 1)                 5         \n",
            "=================================================================\n",
            "Total params: 33\n",
            "Trainable params: 33\n",
            "Non-trainable params: 0\n",
            "_________________________________________________________________\n"
          ]
        }
      ]
    },
    {
      "cell_type": "markdown",
      "metadata": {
        "id": "JEMiXMS7uKqK"
      },
      "source": [
        "<p>Give a short (one sentence!) explanation of why there are eight values in the l0 array</p>\n",
        "<p></p>"
      ]
    },
    {
      "cell_type": "markdown",
      "metadata": {
        "id": "t0iOknYVuPSg"
      },
      "source": []
    }
  ]
}